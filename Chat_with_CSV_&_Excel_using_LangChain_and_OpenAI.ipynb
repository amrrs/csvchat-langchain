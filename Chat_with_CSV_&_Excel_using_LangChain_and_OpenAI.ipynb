{
 "nbformat": 4,
 "nbformat_minor": 0,
 "metadata": {
  "colab": {
   "provenance": []
  },
  "kernelspec": {
   "name": "python3",
   "language": "python",
   "display_name": "Python 3 (ipykernel)"
  },
  "language_info": {
   "name": "python"
  }
 },
 "cells": [
  {
   "cell_type": "markdown",
   "source": [
    "# csv chat with Langchain and OpenAI\n",
    "Code Credit - https://twitter.com/pwang_szn/status/1642104548109201410/photo/1\n",
    "\n",
    "\n",
    "\n",
    "\n",
    "### First install langchain, openai and chromadb"
   ],
   "metadata": {
    "id": "r0alwu2qZzGU"
   }
  },
  {
   "cell_type": "code",
   "source": [
    "!pip install -q langchain openai chromadb\n"
   ],
   "metadata": {
    "colab": {
     "base_uri": "https://localhost:8080/"
    },
    "id": "JGXR0-MsaE1T",
    "outputId": "5d097565-7a4b-4f2b-a3f3-09a733a43f6f",
    "ExecuteTime": {
     "start_time": "2023-04-26T16:40:41.947926Z",
     "end_time": "2023-04-26T16:41:57.887721Z"
    }
   },
   "execution_count": 1,
   "outputs": []
  },
  {
   "cell_type": "markdown",
   "source": [
    "### Load the libraries"
   ],
   "metadata": {
    "collapsed": false
   }
  },
  {
   "cell_type": "code",
   "source": [
    "from langchain.document_loaders import CSVLoader\n",
    "from langchain.indexes import VectorstoreIndexCreator\n",
    "from langchain.chains import RetrievalQA\n",
    "from langchain.llms import OpenAI\n",
    "import os"
   ],
   "metadata": {
    "id": "0X1EX8eRcRCk",
    "ExecuteTime": {
     "start_time": "2023-04-26T16:49:08.608123Z",
     "end_time": "2023-04-26T16:49:08.610865Z"
    }
   },
   "execution_count": 3,
   "outputs": []
  },
  {
   "cell_type": "markdown",
   "source": [
    "Get your OpenAI Key from here - https://platform.openai.com/account/api-keys"
   ],
   "metadata": {
    "id": "aJOrUeJedzMF"
   }
  },
  {
   "cell_type": "markdown",
   "source": [
    "### Set enviorment variable and download the csv file"
   ],
   "metadata": {
    "collapsed": false
   }
  },
  {
   "cell_type": "code",
   "source": [
    "os.environ[\"OPENAI_API_KEY\"] = \"sk-xxxx\""
   ],
   "metadata": {
    "id": "Zmk3KQMqZvsO",
    "ExecuteTime": {
     "start_time": "2023-04-26T18:44:31.283495Z",
     "end_time": "2023-04-26T18:44:31.284107Z"
    }
   },
   "execution_count": 15,
   "outputs": []
  },
  {
   "cell_type": "code",
   "source": [
    "!wget https://gist.githubusercontent.com/armgilles/194bcff35001e7eb53a2a8b441e8b2c6/raw/92200bc0a673d5ce2110aaad4544ed6c4010f687/pokemon.csv"
   ],
   "metadata": {
    "colab": {
     "base_uri": "https://localhost:8080/"
    },
    "id": "odUgyhg_c4Co",
    "outputId": "6f74b7ff-edb6-44da-82a1-8a8b07e1f811",
    "ExecuteTime": {
     "start_time": "2023-04-26T18:44:34.405576Z",
     "end_time": "2023-04-26T18:44:34.568621Z"
    }
   },
   "execution_count": null,
   "outputs": []
  },
  {
   "cell_type": "code",
   "source": [
    "# Load the documents\n",
    "loader = CSVLoader(file_path='pokemon.csv')"
   ],
   "metadata": {
    "id": "TR8dXxxHbY_b",
    "ExecuteTime": {
     "start_time": "2023-04-26T16:52:39.701160Z",
     "end_time": "2023-04-26T16:52:39.718388Z"
    }
   },
   "execution_count": null,
   "outputs": []
  },
  {
   "cell_type": "code",
   "source": [
    "# Create an index using the loaded documents\n",
    "index_creator = VectorstoreIndexCreator()\n",
    "docsearch = index_creator.from_loaders([loader])"
   ],
   "metadata": {
    "colab": {
     "base_uri": "https://localhost:8080/"
    },
    "id": "3P4s3IKXaar8",
    "outputId": "602eedc3-7adb-4871-c685-c77c43544058",
    "ExecuteTime": {
     "start_time": "2023-04-26T16:53:34.642666Z",
     "end_time": "2023-04-26T16:53:48.668516Z"
    }
   },
   "execution_count": null,
   "outputs": []
  },
  {
   "cell_type": "code",
   "execution_count": 12,
   "metadata": {
    "id": "-vruq68YZnmL",
    "ExecuteTime": {
     "start_time": "2023-04-26T16:53:57.724086Z",
     "end_time": "2023-04-26T16:53:57.727959Z"
    }
   },
   "outputs": [],
   "source": [
    "# Create a question-answering chain using the index\n",
    "chain = RetrievalQA.from_chain_type(llm=OpenAI(), chain_type=\"stuff\", retriever=docsearch.vectorstore.as_retriever(), input_key=\"question\")\n"
   ]
  },
  {
   "cell_type": "code",
   "source": [
    "# Pass a query to the chain\n",
    "query = \"Do you have a column called age?\"\n",
    "response = chain({\"question\": query})"
   ],
   "metadata": {
    "id": "Jwy7gjr0aXBr",
    "ExecuteTime": {
     "start_time": "2023-04-26T16:54:08.310693Z",
     "end_time": "2023-04-26T16:54:10.356153Z"
    }
   },
   "execution_count": 13,
   "outputs": []
  },
  {
   "cell_type": "code",
   "source": [
    "print(response['result'])"
   ],
   "metadata": {
    "colab": {
     "base_uri": "https://localhost:8080/"
    },
    "id": "9D8ajM74eC_c",
    "outputId": "22175dff-7b62-495e-8d98-9928095e5778",
    "ExecuteTime": {
     "start_time": "2023-04-26T16:54:11.248152Z",
     "end_time": "2023-04-26T16:54:11.251549Z"
    }
   },
   "execution_count": null,
   "outputs": []
  },
  {
   "cell_type": "code",
   "execution_count": null,
   "outputs": [],
   "source": [
    "# wrap it in a function\n",
    "query = \"Do you have a column called age?\"\n",
    "def ask_question(query):\n",
    "    response = chain({\"question\": query})\n",
    "    return response['result']\n",
    "ask_question(query)"
   ],
   "metadata": {
    "collapsed": false,
    "ExecuteTime": {
     "start_time": "2023-04-26T18:48:13.406496Z",
     "end_time": "2023-04-26T18:48:16.138015Z"
    }
   }
  },
  {
   "cell_type": "code",
   "execution_count": null,
   "outputs": [],
   "source": [],
   "metadata": {
    "collapsed": false
   }
  }
 ]
}
